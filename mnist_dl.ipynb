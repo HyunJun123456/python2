{
  "nbformat": 4,
  "nbformat_minor": 0,
  "metadata": {
    "colab": {
      "provenance": [],
      "collapsed_sections": [],
      "mount_file_id": "1oXZ3xy2ja0P2g5ExTbC1eHFM1tbVwJaG",
      "authorship_tag": "ABX9TyPEPBOtXl34oBpi1HvLUQtF",
      "include_colab_link": true
    },
    "kernelspec": {
      "name": "python3",
      "display_name": "Python 3"
    },
    "language_info": {
      "name": "python"
    },
    "accelerator": "GPU",
    "gpuClass": "standard"
  },
  "cells": [
    {
      "cell_type": "markdown",
      "metadata": {
        "id": "view-in-github",
        "colab_type": "text"
      },
      "source": [
        "<a href=\"https://colab.research.google.com/github/HyunJun123456/python2/blob/master/mnist_dl.ipynb\" target=\"_parent\"><img src=\"https://colab.research.google.com/assets/colab-badge.svg\" alt=\"Open In Colab\"/></a>"
      ]
    },
    {
      "cell_type": "code",
      "source": [
        "import tensorflow as tf\n",
        "\n",
        "import matplotlib.pyplot as plt\n",
        "\n",
        "from PIL import Image\n",
        "\n",
        "mnist = tf.keras.datasets.mnist\n",
        "\n",
        "import cv2\n",
        "\n",
        " \n",
        "\n",
        "(x_train, y_train),(x_test, y_test) = mnist.load_data()\n",
        "\n",
        "x_train, x_test = x_train / 255.0, x_test / 255.0\n",
        "\n",
        " \n",
        "\n",
        "model = tf.keras.models.Sequential([\n",
        "\n",
        "  tf.keras.layers.Flatten(),\n",
        "\n",
        "  tf.keras.layers.Dense(512, activation=tf.nn.relu),\n",
        "\n",
        "  tf.keras.layers.Dropout(0.2),\n",
        "\n",
        "  tf.keras.layers.Dense(10, activation=tf.nn.softmax)\n",
        "\n",
        "])\n",
        "\n",
        "model.compile(optimizer='adam',\n",
        "\n",
        "              loss='sparse_categorical_crossentropy',\n",
        "\n",
        "              metrics=['accuracy'])\n",
        "\n",
        " \n",
        "\n",
        "model.fit(x_train, y_train, epochs=5)\n",
        "\n",
        "score = model.evaluate(x_test, y_test)\n",
        "\n",
        "\n",
        "\n",
        "# 이미지 불러와 출력\n",
        "\n",
        "print(cv2.imread)\n",
        "gray = cv2.imread('/content/image/tensorflow_model03.png', cv2.IMREAD_GRAYSCALE)\n",
        "\n",
        "plt.imshow(gray)\n",
        "\n",
        "plt.show()\n",
        "\n",
        "\n",
        "# 이미지 사이즈 변경\n",
        "\n",
        "gray = cv2.resize(255-gray, (28, 28))\n",
        "\n",
        "test_num = gray.flatten() / 255.0\n",
        "\n",
        "test_num = test_num.reshape((-1, 28, 28, 1))\n",
        "\n",
        "\n",
        "\n",
        "# 이미지 숫자 테스트 \n",
        "\n",
        "\n",
        "\n",
        "\n",
        "print('The Answer is ', model.predict_classes(test_num))"
      ],
      "metadata": {
        "colab": {
          "base_uri": "https://localhost:8080/",
          "height": 702
        },
        "id": "xctbEG4BjlsM",
        "outputId": "d04dd448-4f83-4223-ba78-4edc31ba06d0"
      },
      "execution_count": null,
      "outputs": [
        {
          "output_type": "stream",
          "name": "stdout",
          "text": [
            "Epoch 1/5\n",
            "1875/1875 [==============================] - 4s 2ms/step - loss: 0.2151 - accuracy: 0.9368\n",
            "Epoch 2/5\n",
            "1875/1875 [==============================] - 4s 2ms/step - loss: 0.0967 - accuracy: 0.9711\n",
            "Epoch 3/5\n",
            "1875/1875 [==============================] - 4s 2ms/step - loss: 0.0685 - accuracy: 0.9781\n",
            "Epoch 4/5\n",
            "1875/1875 [==============================] - 4s 2ms/step - loss: 0.0527 - accuracy: 0.9829\n",
            "Epoch 5/5\n",
            "1875/1875 [==============================] - 4s 2ms/step - loss: 0.0444 - accuracy: 0.9858\n",
            "313/313 [==============================] - 1s 2ms/step - loss: 0.0656 - accuracy: 0.9794\n",
            "<built-in function imread>\n"
          ]
        },
        {
          "output_type": "display_data",
          "data": {
            "text/plain": [
              "<Figure size 432x288 with 1 Axes>"
            ],
            "image/png": "[encoded data removed]"
          },
          "metadata": {
            "needs_background": "light"
          }
        },
        {
          "output_type": "stream",
          "name": "stdout",
          "text": [
            "1/1 [==============================] - 0s 66ms/step\n"
          ]
        },
        {
          "output_type": "error",
          "ename": "AttributeError",
          "evalue": "ignored",
          "traceback": [
            "\u001b[0;31m---------------------------------------------------------------------------\u001b[0m",
            "\u001b[0;31mAttributeError\u001b[0m                            Traceback (most recent call last)",
            "\u001b[0;32m<ipython-input-23-438657d327f0>\u001b[0m in \u001b[0;36m<module>\u001b[0;34m\u001b[0m\n\u001b[1;32m     70\u001b[0m \u001b[0;34m\u001b[0m\u001b[0m\n\u001b[1;32m     71\u001b[0m \u001b[0;34m\u001b[0m\u001b[0m\n\u001b[0;32m---> 72\u001b[0;31m \u001b[0mprint\u001b[0m\u001b[0;34m(\u001b[0m\u001b[0;34m'The Answer is '\u001b[0m\u001b[0;34m,\u001b[0m \u001b[0mmodel\u001b[0m\u001b[0;34m.\u001b[0m\u001b[0mpredicted\u001b[0m\u001b[0;34m)\u001b[0m\u001b[0;34m\u001b[0m\u001b[0;34m\u001b[0m\u001b[0m\n\u001b[0m",
            "\u001b[0;31mAttributeError\u001b[0m: 'Sequential' object has no attribute 'predicted'"
          ]
        }
      ]
    },
    {
      "cell_type": "code",
      "source": [],
      "metadata": {
        "id": "cG-9X8mr2zKd"
      },
      "execution_count": null,
      "outputs": []
    },
    {
      "cell_type": "code",
      "source": [
        "!pip uninstall tensorflow"
      ],
      "metadata": {
        "colab": {
          "base_uri": "https://localhost:8080/"
        },
        "id": "eoddgqltj-7L",
        "outputId": "4987f78f-3b90-4f67-ae0a-e394cb1f67b6"
      },
      "execution_count": null,
      "outputs": [
        {
          "output_type": "stream",
          "name": "stdout",
          "text": [
            "Found existing installation: tensorflow 2.9.2\n",
            "Uninstalling tensorflow-2.9.2:\n",
            "  Would remove:\n",
            "    /usr/local/bin/estimator_ckpt_converter\n",
            "    /usr/local/bin/import_pb_to_tensorboard\n",
            "    /usr/local/bin/saved_model_cli\n",
            "    /usr/local/bin/tensorboard\n",
            "    /usr/local/bin/tf_upgrade_v2\n",
            "    /usr/local/bin/tflite_convert\n",
            "    /usr/local/bin/toco\n",
            "    /usr/local/bin/toco_from_protos\n",
            "    /usr/local/lib/python3.7/dist-packages/tensorflow-2.9.2.dist-info/*\n",
            "    /usr/local/lib/python3.7/dist-packages/tensorflow/*\n",
            "Proceed (y/n)? y\n",
            "  Successfully uninstalled tensorflow-2.9.2\n"
          ]
        }
      ]
    },
    {
      "cell_type": "code",
      "source": [
        "!pip install tensorflow==2.3"
      ],
      "metadata": {
        "colab": {
          "base_uri": "https://localhost:8080/",
          "height": 1000
        },
        "id": "0aO1BTXNlnPj",
        "outputId": "345de37a-b98b-4891-f88f-79f071753c6f"
      },
      "execution_count": null,
      "outputs": [
        {
          "output_type": "stream",
          "name": "stdout",
          "text": [
            "y\n",
            "Looking in indexes: https://pypi.org/simple, https://us-python.pkg.dev/colab-wheels/public/simple/\n",
            "Collecting tensorflow==2.3\n",
            "  Downloading tensorflow-2.3.0-cp37-cp37m-manylinux2010_x86_64.whl (320.4 MB)\n",
            "\u001b[K     |████████████████████████████████| 320.4 MB 50 kB/s \n",
            "\u001b[?25hCollecting gast==0.3.3\n",
            "  Downloading gast-0.3.3-py2.py3-none-any.whl (9.7 kB)\n",
            "Requirement already satisfied: tensorboard<3,>=2.3.0 in /usr/local/lib/python3.7/dist-packages (from tensorflow==2.3) (2.9.1)\n",
            "Requirement already satisfied: opt-einsum>=2.3.2 in /usr/local/lib/python3.7/dist-packages (from tensorflow==2.3) (3.3.0)\n",
            "Requirement already satisfied: absl-py>=0.7.0 in /usr/local/lib/python3.7/dist-packages (from tensorflow==2.3) (1.3.0)\n",
            "Requirement already satisfied: protobuf>=3.9.2 in /usr/local/lib/python3.7/dist-packages (from tensorflow==2.3) (3.19.6)\n",
            "Requirement already satisfied: termcolor>=1.1.0 in /usr/local/lib/python3.7/dist-packages (from tensorflow==2.3) (2.1.0)\n",
            "Collecting scipy==1.4.1\n",
            "  Downloading scipy-1.4.1-cp37-cp37m-manylinux1_x86_64.whl (26.1 MB)\n",
            "\u001b[K     |████████████████████████████████| 26.1 MB 1.4 MB/s \n",
            "\u001b[?25hCollecting numpy<1.19.0,>=1.16.0\n",
            "  Downloading numpy-1.18.5-cp37-cp37m-manylinux1_x86_64.whl (20.1 MB)\n",
            "\u001b[K     |████████████████████████████████| 20.1 MB 1.3 MB/s \n",
            "\u001b[?25hRequirement already satisfied: wrapt>=1.11.1 in /usr/local/lib/python3.7/dist-packages (from tensorflow==2.3) (1.14.1)\n",
            "Requirement already satisfied: google-pasta>=0.1.8 in /usr/local/lib/python3.7/dist-packages (from tensorflow==2.3) (0.2.0)\n",
            "Requirement already satisfied: keras-preprocessing<1.2,>=1.1.1 in /usr/local/lib/python3.7/dist-packages (from tensorflow==2.3) (1.1.2)\n",
            "Collecting h5py<2.11.0,>=2.10.0\n",
            "  Downloading h5py-2.10.0-cp37-cp37m-manylinux1_x86_64.whl (2.9 MB)\n",
            "\u001b[K     |████████████████████████████████| 2.9 MB 56.6 MB/s \n",
            "\u001b[?25hRequirement already satisfied: grpcio>=1.8.6 in /usr/local/lib/python3.7/dist-packages (from tensorflow==2.3) (1.50.0)\n",
            "Collecting tensorflow-estimator<2.4.0,>=2.3.0\n",
            "  Downloading tensorflow_estimator-2.3.0-py2.py3-none-any.whl (459 kB)\n",
            "\u001b[K     |████████████████████████████████| 459 kB 73.6 MB/s \n",
            "\u001b[?25hRequirement already satisfied: wheel>=0.26 in /usr/local/lib/python3.7/dist-packages (from tensorflow==2.3) (0.38.3)\n",
            "Requirement already satisfied: six>=1.12.0 in /usr/local/lib/python3.7/dist-packages (from tensorflow==2.3) (1.15.0)\n",
            "Requirement already satisfied: astunparse==1.6.3 in /usr/local/lib/python3.7/dist-packages (from tensorflow==2.3) (1.6.3)\n",
            "Requirement already satisfied: werkzeug>=1.0.1 in /usr/local/lib/python3.7/dist-packages (from tensorboard<3,>=2.3.0->tensorflow==2.3) (1.0.1)\n",
            "Requirement already satisfied: requests<3,>=2.21.0 in /usr/local/lib/python3.7/dist-packages (from tensorboard<3,>=2.3.0->tensorflow==2.3) (2.23.0)\n",
            "Requirement already satisfied: tensorboard-data-server<0.7.0,>=0.6.0 in /usr/local/lib/python3.7/dist-packages (from tensorboard<3,>=2.3.0->tensorflow==2.3) (0.6.1)\n",
            "Requirement already satisfied: google-auth<3,>=1.6.3 in /usr/local/lib/python3.7/dist-packages (from tensorboard<3,>=2.3.0->tensorflow==2.3) (2.14.1)\n",
            "Requirement already satisfied: setuptools>=41.0.0 in /usr/local/lib/python3.7/dist-packages (from tensorboard<3,>=2.3.0->tensorflow==2.3) (57.4.0)\n",
            "Requirement already satisfied: markdown>=2.6.8 in /usr/local/lib/python3.7/dist-packages (from tensorboard<3,>=2.3.0->tensorflow==2.3) (3.4.1)\n",
            "Requirement already satisfied: tensorboard-plugin-wit>=1.6.0 in /usr/local/lib/python3.7/dist-packages (from tensorboard<3,>=2.3.0->tensorflow==2.3) (1.8.1)\n",
            "Requirement already satisfied: google-auth-oauthlib<0.5,>=0.4.1 in /usr/local/lib/python3.7/dist-packages (from tensorboard<3,>=2.3.0->tensorflow==2.3) (0.4.6)\n",
            "Requirement already satisfied: cachetools<6.0,>=2.0.0 in /usr/local/lib/python3.7/dist-packages (from google-auth<3,>=1.6.3->tensorboard<3,>=2.3.0->tensorflow==2.3) (5.2.0)\n",
            "Requirement already satisfied: pyasn1-modules>=0.2.1 in /usr/local/lib/python3.7/dist-packages (from google-auth<3,>=1.6.3->tensorboard<3,>=2.3.0->tensorflow==2.3) (0.2.8)\n",
            "Requirement already satisfied: rsa<5,>=3.1.4 in /usr/local/lib/python3.7/dist-packages (from google-auth<3,>=1.6.3->tensorboard<3,>=2.3.0->tensorflow==2.3) (4.9)\n",
            "Requirement already satisfied: requests-oauthlib>=0.7.0 in /usr/local/lib/python3.7/dist-packages (from google-auth-oauthlib<0.5,>=0.4.1->tensorboard<3,>=2.3.0->tensorflow==2.3) (1.3.1)\n",
            "Requirement already satisfied: importlib-metadata>=4.4 in /usr/local/lib/python3.7/dist-packages (from markdown>=2.6.8->tensorboard<3,>=2.3.0->tensorflow==2.3) (4.13.0)\n",
            "Requirement already satisfied: zipp>=0.5 in /usr/local/lib/python3.7/dist-packages (from importlib-metadata>=4.4->markdown>=2.6.8->tensorboard<3,>=2.3.0->tensorflow==2.3) (3.10.0)\n",
            "Requirement already satisfied: typing-extensions>=3.6.4 in /usr/local/lib/python3.7/dist-packages (from importlib-metadata>=4.4->markdown>=2.6.8->tensorboard<3,>=2.3.0->tensorflow==2.3) (4.1.1)\n",
            "Requirement already satisfied: pyasn1<0.5.0,>=0.4.6 in /usr/local/lib/python3.7/dist-packages (from pyasn1-modules>=0.2.1->google-auth<3,>=1.6.3->tensorboard<3,>=2.3.0->tensorflow==2.3) (0.4.8)\n",
            "Requirement already satisfied: idna<3,>=2.5 in /usr/local/lib/python3.7/dist-packages (from requests<3,>=2.21.0->tensorboard<3,>=2.3.0->tensorflow==2.3) (2.10)\n",
            "Requirement already satisfied: urllib3!=1.25.0,!=1.25.1,<1.26,>=1.21.1 in /usr/local/lib/python3.7/dist-packages (from requests<3,>=2.21.0->tensorboard<3,>=2.3.0->tensorflow==2.3) (1.24.3)\n",
            "Requirement already satisfied: certifi>=2017.4.17 in /usr/local/lib/python3.7/dist-packages (from requests<3,>=2.21.0->tensorboard<3,>=2.3.0->tensorflow==2.3) (2022.9.24)\n",
            "Requirement already satisfied: chardet<4,>=3.0.2 in /usr/local/lib/python3.7/dist-packages (from requests<3,>=2.21.0->tensorboard<3,>=2.3.0->tensorflow==2.3) (3.0.4)\n",
            "Requirement already satisfied: oauthlib>=3.0.0 in /usr/local/lib/python3.7/dist-packages (from requests-oauthlib>=0.7.0->google-auth-oauthlib<0.5,>=0.4.1->tensorboard<3,>=2.3.0->tensorflow==2.3) (3.2.2)\n",
            "Installing collected packages: numpy, tensorflow-estimator, scipy, h5py, gast, tensorflow\n",
            "  Attempting uninstall: numpy\n",
            "    Found existing installation: numpy 1.21.6\n",
            "    Uninstalling numpy-1.21.6:\n",
            "      Successfully uninstalled numpy-1.21.6\n",
            "  Attempting uninstall: tensorflow-estimator\n",
            "    Found existing installation: tensorflow-estimator 2.9.0\n",
            "    Uninstalling tensorflow-estimator-2.9.0:\n",
            "      Successfully uninstalled tensorflow-estimator-2.9.0\n",
            "  Attempting uninstall: scipy\n",
            "    Found existing installation: scipy 1.7.3\n",
            "    Uninstalling scipy-1.7.3:\n",
            "      Successfully uninstalled scipy-1.7.3\n",
            "  Attempting uninstall: h5py\n",
            "    Found existing installation: h5py 3.1.0\n",
            "    Uninstalling h5py-3.1.0:\n",
            "      Successfully uninstalled h5py-3.1.0\n",
            "  Attempting uninstall: gast\n",
            "    Found existing installation: gast 0.4.0\n",
            "    Uninstalling gast-0.4.0:\n",
            "      Successfully uninstalled gast-0.4.0\n",
            "\u001b[31mERROR: pip's dependency resolver does not currently take into account all the packages that are installed. This behaviour is the source of the following dependency conflicts.\n",
            "xarray-einstats 0.2.2 requires numpy>=1.21, but you have numpy 1.18.5 which is incompatible.\n",
            "tables 3.7.0 requires numpy>=1.19.0, but you have numpy 1.18.5 which is incompatible.\n",
            "plotnine 0.8.0 requires numpy>=1.19.0, but you have numpy 1.18.5 which is incompatible.\n",
            "plotnine 0.8.0 requires scipy>=1.5.0, but you have scipy 1.4.1 which is incompatible.\n",
            "jaxlib 0.3.22+cuda11.cudnn805 requires numpy>=1.20, but you have numpy 1.18.5 which is incompatible.\n",
            "jaxlib 0.3.22+cuda11.cudnn805 requires scipy>=1.5, but you have scipy 1.4.1 which is incompatible.\n",
            "jax 0.3.23 requires numpy>=1.20, but you have numpy 1.18.5 which is incompatible.\n",
            "jax 0.3.23 requires scipy>=1.5, but you have scipy 1.4.1 which is incompatible.\n",
            "cupy-cuda11x 11.0.0 requires numpy<1.26,>=1.20, but you have numpy 1.18.5 which is incompatible.\n",
            "cmdstanpy 1.0.8 requires numpy>=1.21, but you have numpy 1.18.5 which is incompatible.\u001b[0m\n",
            "Successfully installed gast-0.3.3 h5py-2.10.0 numpy-1.18.5 scipy-1.4.1 tensorflow-2.3.0 tensorflow-estimator-2.3.0\n"
          ]
        },
        {
          "output_type": "display_data",
          "data": {
            "application/vnd.colab-display-data+json": {
              "pip_warning": {
                "packages": [
                  "gast",
                  "h5py",
                  "numpy",
                  "scipy",
                  "tensorflow"
                ]
              }
            }
          },
          "metadata": {}
        }
      ]
    },
    {
      "cell_type": "code",
      "source": [
        "import tensorflow as tf\n",
        "\n",
        "import matplotlib.pyplot as plt\n",
        "\n",
        "from PIL import Image\n",
        "\n",
        "mnist = tf.keras.datasets.mnist\n",
        "\n",
        "import cv2\n",
        "\n",
        " \n",
        "\n",
        "(x_train, y_train),(x_test, y_test) = mnist.load_data()\n",
        "\n",
        "x_train, x_test = x_train / 255.0, x_test / 255.0\n",
        "\n",
        " \n",
        "\n",
        "model = tf.keras.models.Sequential([\n",
        "\n",
        "  tf.keras.layers.Flatten(),\n",
        "\n",
        "  tf.keras.layers.Dense(512, activation=tf.nn.relu),\n",
        "\n",
        "  tf.keras.layers.Dropout(0.2),\n",
        "\n",
        "  tf.keras.layers.Dense(10, activation=tf.nn.softmax)\n",
        "\n",
        "])\n",
        "\n",
        "model.compile(optimizer='adam',\n",
        "\n",
        "              loss='sparse_categorical_crossentropy',\n",
        "\n",
        "              metrics=['accuracy'])\n",
        "\n",
        " \n",
        "\n",
        "model.fit(x_train, y_train, epochs=5)\n",
        "\n",
        "score = model.evaluate(x_test, y_test)\n",
        "\n",
        "\n",
        "\n",
        "# 이미지 불러와 출력\n",
        "\n",
        "print(cv2.imread)\n",
        "gray = cv2.imread('./1.png', cv2.IMREAD_GRAYSCALE)\n",
        "\n",
        "plt.imshow(gray)\n",
        "\n",
        "plt.show()\n",
        "\n",
        "\n",
        "# 이미지 사이즈 변경\n",
        "\n",
        "gray = cv2.resize(255-gray, (28, 28))\n",
        "\n",
        "test_num = gray.flatten() / 255.0\n",
        "\n",
        "test_num = test_num.reshape((-1, 28, 28, 1))\n",
        "\n",
        "\n",
        "\n",
        "# 이미지 숫자 테스트 \n",
        "\n",
        "\n",
        "\n",
        "\n",
        "print('The Answer is ', model.predict_classes(test_num))"
      ],
      "metadata": {
        "colab": {
          "base_uri": "https://localhost:8080/",
          "height": 431
        },
        "id": "YcadGanO4OaY",
        "outputId": "9f548031-ef43-4963-e169-a8d38a9466da"
      },
      "execution_count": null,
      "outputs": [
        {
          "output_type": "stream",
          "name": "stdout",
          "text": [
            "Epoch 1/5\n",
            "1875/1875 [==============================] - 9s 4ms/step - loss: 0.2171 - accuracy: 0.9362\n",
            "Epoch 2/5\n",
            "1875/1875 [==============================] - 8s 4ms/step - loss: 0.0960 - accuracy: 0.9716\n",
            "Epoch 3/5\n",
            "1875/1875 [==============================] - 10s 5ms/step - loss: 0.0690 - accuracy: 0.9783\n",
            "Epoch 4/5\n",
            "1875/1875 [==============================] - 8s 4ms/step - loss: 0.0534 - accuracy: 0.9826\n",
            "Epoch 5/5\n",
            "1875/1875 [==============================] - 8s 4ms/step - loss: 0.0432 - accuracy: 0.9862\n",
            "313/313 [==============================] - 1s 3ms/step - loss: 0.0743 - accuracy: 0.9786\n",
            "<built-in function imread>\n"
          ]
        },
        {
          "output_type": "error",
          "ename": "AttributeError",
          "evalue": "ignored",
          "traceback": [
            "\u001b[0;31m---------------------------------------------------------------------------\u001b[0m",
            "\u001b[0;31mAttributeError\u001b[0m                            Traceback (most recent call last)",
            "\u001b[0;32m<ipython-input-97-c157ab6a6a06>\u001b[0m in \u001b[0;36m<module>\u001b[0;34m\u001b[0m\n\u001b[1;32m     68\u001b[0m \u001b[0;34m\u001b[0m\u001b[0m\n\u001b[1;32m     69\u001b[0m \u001b[0;34m\u001b[0m\u001b[0m\n\u001b[0;32m---> 70\u001b[0;31m \u001b[0mprint\u001b[0m\u001b[0;34m(\u001b[0m\u001b[0;34m'The Answer is '\u001b[0m\u001b[0;34m,\u001b[0m \u001b[0mmodel\u001b[0m\u001b[0;34m.\u001b[0m\u001b[0mpredict_classes\u001b[0m\u001b[0;34m(\u001b[0m\u001b[0mtest_num\u001b[0m\u001b[0;34m)\u001b[0m\u001b[0;34m)\u001b[0m\u001b[0;34m\u001b[0m\u001b[0;34m\u001b[0m\u001b[0m\n\u001b[0m",
            "\u001b[0;31mAttributeError\u001b[0m: 'Sequential' object has no attribute 'predict_classes'"
          ]
        }
      ]
    },
    {
      "cell_type": "code",
      "source": [
        "import tensorflow as tf\n",
        "import numpy as np\n",
        "\n",
        "import matplotlib.pyplot as plt\n",
        "%matplotlib\n",
        "\n",
        "import warnings\n",
        "warnings.filterwarnings('ignore')"
      ],
      "metadata": {
        "colab": {
          "base_uri": "https://localhost:8080/"
        },
        "id": "wyWnwvtT20tN",
        "outputId": "5b52f7c7-599e-4f15-e2df-c01d0c2502ae"
      },
      "execution_count": null,
      "outputs": [
        {
          "output_type": "stream",
          "name": "stdout",
          "text": [
            "Using matplotlib backend: agg\n"
          ]
        }
      ]
    },
    {
      "cell_type": "code",
      "source": [
        "mnist = tf.keras.datasets.mnist\n",
        "(x_train, y_train), (x_test, y_test) = mnist.load_data()\n",
        "print(f'학습 데이터 {len(x_train)}개 평가 데이터 {len(x_test)}개')"
      ],
      "metadata": {
        "colab": {
          "base_uri": "https://localhost:8080/"
        },
        "id": "J84VIr8h3gkN",
        "outputId": "4441b67a-5865-4a00-de8e-935334bb081a"
      },
      "execution_count": null,
      "outputs": [
        {
          "output_type": "stream",
          "name": "stdout",
          "text": [
            "학습 데이터 60000개 평가 데이터 10000개\n"
          ]
        }
      ]
    },
    {
      "cell_type": "code",
      "source": [
        "print(f'학습 데이터 {x_train.shape} 레이블 {y_train.shape} y {y_train}')\n",
        "print(f'평가 데이터 {x_test.shape} 레이블 {y_test.shape} y {y_test}')"
      ],
      "metadata": {
        "colab": {
          "base_uri": "https://localhost:8080/"
        },
        "id": "5nn9b_jV32-k",
        "outputId": "e1104f04-9f46-4934-f2ed-799e4b20237e"
      },
      "execution_count": null,
      "outputs": [
        {
          "output_type": "stream",
          "name": "stdout",
          "text": [
            "학습 데이터 (60000, 28, 28) 레이블 (60000,) y [5 0 4 ... 5 6 8]\n",
            "평가 데이터 (10000, 28, 28) 레이블 (10000,) y [7 2 1 ... 4 5 6]\n"
          ]
        }
      ]
    },
    {
      "cell_type": "code",
      "source": [
        "%matplotlib inline \n",
        "import matplotlib.pyplot as plt\n",
        "row = 10\n",
        "col = 10\n",
        "n = row * col\n",
        "\n",
        "plt.figure(figsize=(6,6))\n",
        "for i in range(n):\n",
        "    ax = plt.subplot(row, col, i+1)\n",
        "    plt.imshow(x_train[i].reshape(28,28))\n",
        "    plt.gray()\n",
        "    ax.get_xaxis().set_visible(False)\n",
        "    ax.get_yaxis().set_visible(False)\n",
        "plt.show()"
      ],
      "metadata": {
        "colab": {
          "base_uri": "https://localhost:8080/",
          "height": 361
        },
        "id": "AycAQJrf4VKP",
        "outputId": "1fcb15b5-1754-41ab-a31f-594821335b9d"
      },
      "execution_count": null,
      "outputs": [
        {
          "output_type": "display_data",
          "data": {
            "text/plain": [
              "<Figure size 432x432 with 100 Axes>"
            ],
            "image/png": "[encoded data removed]"
          },
          "metadata": {
            "needs_background": "light"
          }
        }
      ]
    },
    {
      "cell_type": "code",
      "source": [
        "x_train, x_test = x_train / 255.0, x_test / 255.0"
      ],
      "metadata": {
        "id": "f2GeWn9_46oe"
      },
      "execution_count": null,
      "outputs": []
    },
    {
      "cell_type": "code",
      "source": [
        "model = tf.keras.models.Sequential([\n",
        "    tf.keras.layers.Flatten(input_shape=(28,28)),\n",
        "    tf.keras.layers.Dense(128, activation='relu'),\n",
        "    tf.keras.layers.Dropout(0.2),\n",
        "    tf.keras.layers.Dense(10, activation='softmax')\n",
        "])"
      ],
      "metadata": {
        "id": "68yjPnqR64gW"
      },
      "execution_count": null,
      "outputs": []
    },
    {
      "cell_type": "code",
      "source": [
        "model.summary()"
      ],
      "metadata": {
        "colab": {
          "base_uri": "https://localhost:8080/"
        },
        "id": "QxrOAiRC7yPp",
        "outputId": "c5405060-4365-40cd-d777-891b4e4d9f2a"
      },
      "execution_count": null,
      "outputs": [
        {
          "output_type": "stream",
          "name": "stdout",
          "text": [
            "Model: \"sequential_6\"\n",
            "_________________________________________________________________\n",
            " Layer (type)                Output Shape              Param #   \n",
            "=================================================================\n",
            " flatten_6 (Flatten)         (None, 784)               0         \n",
            "                                                                 \n",
            " dense_12 (Dense)            (None, 128)               100480    \n",
            "                                                                 \n",
            " dropout_6 (Dropout)         (None, 128)               0         \n",
            "                                                                 \n",
            " dense_13 (Dense)            (None, 10)                1290      \n",
            "                                                                 \n",
            "=================================================================\n",
            "Total params: 101,770\n",
            "Trainable params: 101,770\n",
            "Non-trainable params: 0\n",
            "_________________________________________________________________\n"
          ]
        }
      ]
    },
    {
      "cell_type": "code",
      "source": [
        "model.compile(optimizer='adam',\n",
        "              loss='sparse_categorical_crossentropy',\n",
        "              metrics=['accuracy'])"
      ],
      "metadata": {
        "id": "p_nH9g5B73F-"
      },
      "execution_count": null,
      "outputs": []
    },
    {
      "cell_type": "code",
      "source": [
        "model.fit(x_train, y_train, epochs=5)"
      ],
      "metadata": {
        "colab": {
          "base_uri": "https://localhost:8080/"
        },
        "id": "mbqWEMCf8Gzr",
        "outputId": "c6c527e6-6530-4809-c5f3-5dc47041a9bd"
      },
      "execution_count": null,
      "outputs": [
        {
          "output_type": "stream",
          "name": "stdout",
          "text": [
            "Epoch 1/5\n",
            "1875/1875 [==============================] - 5s 3ms/step - loss: 0.2969 - accuracy: 0.9140\n",
            "Epoch 2/5\n",
            "1875/1875 [==============================] - 5s 3ms/step - loss: 0.1447 - accuracy: 0.9574\n",
            "Epoch 3/5\n",
            "1875/1875 [==============================] - 5s 3ms/step - loss: 0.1076 - accuracy: 0.9679\n",
            "Epoch 4/5\n",
            "1875/1875 [==============================] - 5s 3ms/step - loss: 0.0888 - accuracy: 0.9733\n",
            "Epoch 5/5\n",
            "1875/1875 [==============================] - 5s 3ms/step - loss: 0.0735 - accuracy: 0.9763\n"
          ]
        },
        {
          "output_type": "execute_result",
          "data": {
            "text/plain": [
              "<keras.callbacks.History at 0x7f2c9380d490>"
            ]
          },
          "metadata": {},
          "execution_count": 106
        }
      ]
    },
    {
      "cell_type": "code",
      "source": [
        "model.evaluate(x_test, y_test)"
      ],
      "metadata": {
        "colab": {
          "base_uri": "https://localhost:8080/"
        },
        "id": "GmvKxEIH8LP9",
        "outputId": "3201a5fe-8b27-4d64-b688-69eac7bb7c7d"
      },
      "execution_count": null,
      "outputs": [
        {
          "output_type": "stream",
          "name": "stdout",
          "text": [
            "313/313 [==============================] - 1s 2ms/step - loss: 0.0714 - accuracy: 0.9773\n"
          ]
        },
        {
          "output_type": "execute_result",
          "data": {
            "text/plain": [
              "[0.0714372992515564, 0.9772999882698059]"
            ]
          },
          "metadata": {},
          "execution_count": 107
        }
      ]
    },
    {
      "cell_type": "code",
      "source": [
        "pred = model.predict(x_test)\n",
        "np.set_printoptions(precision=7)\n",
        "print(f'각 클래스에 속할 확률: \\n{pred[0]}')"
      ],
      "metadata": {
        "colab": {
          "base_uri": "https://localhost:8080/"
        },
        "id": "mKTxm-qf8Y6D",
        "outputId": "f1687b34-47ca-418d-989d-5dceb21dead7"
      },
      "execution_count": null,
      "outputs": [
        {
          "output_type": "stream",
          "name": "stdout",
          "text": [
            "313/313 [==============================] - 0s 2ms/step\n",
            "각 클래스에 속할 확률: \n",
            "[5.6381430e-07 2.2532824e-09 3.9905342e-05 1.0386717e-03 6.6392985e-12\n",
            " 3.7348517e-08 3.1813576e-11 9.9891657e-01 2.3477571e-06 1.8946306e-06]\n"
          ]
        }
      ]
    },
    {
      "cell_type": "code",
      "source": [
        "from PIL import Image\n",
        "\n",
        "img_png = Image.open('./2.png').convert('L')\n",
        "img_png.size"
      ],
      "metadata": {
        "colab": {
          "base_uri": "https://localhost:8080/"
        },
        "id": "-C9XaU0P8xQZ",
        "outputId": "69b239ca-2b6d-494f-ac5a-ced4b7c9665f"
      },
      "execution_count": null,
      "outputs": [
        {
          "output_type": "execute_result",
          "data": {
            "text/plain": [
              "(83, 100)"
            ]
          },
          "metadata": {},
          "execution_count": 140
        }
      ]
    },
    {
      "cell_type": "code",
      "source": [
        "img_mnist = img_png.resize((28,28))\n",
        "img_mnist"
      ],
      "metadata": {
        "colab": {
          "base_uri": "https://localhost:8080/",
          "height": 45
        },
        "id": "1Kw_mQq-9Hh3",
        "outputId": "1874e4b6-eb5e-40e9-9f66-c778bbf845f3"
      },
      "execution_count": null,
      "outputs": [
        {
          "output_type": "execute_result",
          "data": {
            "text/plain": [
              "<PIL.Image.Image image mode=L size=28x28 at 0x7F2C846444D0>"
            ],
            "image/png": "[encoded data removed]"
          },
          "metadata": {},
          "execution_count": 141
        }
      ]
    },
    {
      "cell_type": "code",
      "source": [
        "np_im = (255 - np.array(img_mnist))\n",
        "np_im.shape"
      ],
      "metadata": {
        "colab": {
          "base_uri": "https://localhost:8080/"
        },
        "id": "dMhk_D1c9bP2",
        "outputId": "ca8388e8-d4a5-4181-8fd0-12d574d4a454"
      },
      "execution_count": null,
      "outputs": [
        {
          "output_type": "execute_result",
          "data": {
            "text/plain": [
              "(28, 28)"
            ]
          },
          "metadata": {},
          "execution_count": 142
        }
      ]
    },
    {
      "cell_type": "code",
      "source": [
        "tt = np.array2string(np_im, separator=\",\")\n",
        "tt = tt.replace('\\n', '')\n",
        "tt = tt.replace('[', '')\n",
        "tt = tt.replace(']', '')\n",
        "tt = tt.replace('   ', '')\n",
        "tt = tt.replace('  ', '')\n",
        "tt = '*,'+tt\n",
        "print(tt)\n",
        "\n",
        "data_value = tt.split(',')\n",
        "\n",
        "image_arr = np.asfarray(data_value[1:]).reshape((28,28))\n"
      ],
      "metadata": {
        "colab": {
          "base_uri": "https://localhost:8080/"
        },
        "id": "Hs39mT0X9k1K",
        "outputId": "82aead6a-18dd-460b-da03-f144733bac60"
      },
      "execution_count": null,
      "outputs": [
        {
          "output_type": "stream",
          "name": "stdout",
          "text": [
            "*,0, 10, 18, 18, 11,0,0,0,9, 15, 11,7,0,0,0,2, 11, 13,13,0,0,0,6, 18, 17, 16,0,0,10,8,7,7,7, 10,8,4,6, 25, 52, 70, 86, 91, 91, 83, 65, 41,13,4,7, 10,8,7,7,7,9,9,18,6,0,0,3, 11, 28, 77,113,117,104, 86, 77, 75, 76, 79, 93,111,120, 93, 31, 12, 10,0,0,0, 16, 17,17,6,0,0, 17, 92,125, 99, 62, 45, 40, 41, 42, 42, 42, 42, 41, 41,51, 90,131, 65,5,0,0,1, 15, 16,4,9, 14, 66,127, 94, 49, 40, 43, 45, 43, 41, 40, 40, 40, 42, 44, 45,44, 40, 55,132, 62,8, 13, 12,4,3,0,7, 51,151, 56, 40, 44, 44, 41, 44, 60, 81, 99,100, 95, 72, 48, 42,45, 45, 42, 58,136, 29, 15, 15,1,0,0, 10, 16,111, 90, 40, 41, 47, 89,121,113, 84, 57, 52, 62, 96,128, 68,43, 45, 45, 39,111, 75, 11, 15,1,0,12,7,3, 21,134, 59, 71,128, 92, 28,2,0,6,6,6,0, 40,130,48, 44, 45, 41, 92, 92,3,5, 11, 11,18,6,0,0, 55,151,123, 43,0,0,0,3, 17, 17, 18,8,0,124,58, 43, 45, 40, 94, 88,0,0, 16, 17,16,6,1,1,4, 65, 23, 12,7,1,1,3, 15, 15, 16,2, 43,127,44, 45, 45, 40,117, 56,0,1, 15, 15,2,9, 15, 15, 10,0,1,2,9, 15, 14, 12,2,2,1, 16,131, 71,42, 45, 42, 61,133, 21, 13, 13,3,2,0, 10, 17, 17, 11,0,0,0,9, 17, 16, 13,0,0,8,117, 92, 40,45, 45, 42,124, 65, 11, 16, 15,1,0,0, 10, 17, 17, 11,0,0,0,9, 17, 16, 13,0, 19,120, 96, 40, 45,45, 40,103, 99,3, 16, 16, 15,1,0,14,7,3,3,6, 13, 13, 14,7,3,3,0, 41,130, 86, 40, 45, 45,39, 93,121, 17,7,3,3,4, 12, 13,18,6,0,0,5, 17, 17, 18,7,0,0, 46,135, 71, 40, 45, 44, 40,96,122, 23, 15, 10,0,0,0, 16, 17,15,6,2,2,6, 14, 14, 15,6,0, 63,131, 60, 41, 45, 43, 43,108,111, 20, 11, 15, 10,2,2,2, 14, 14,1, 10, 16, 16, 11,1,1,0,7, 90,125, 51, 42, 45, 42, 48,120,102,13,0,1,1,6, 16, 15, 14,2,1,0, 10, 17, 17, 11,0,0,6,102,115, 44, 43, 45, 41, 58,133, 81, 12,13,0,0,0,6, 17, 16, 15,1,0,1, 10, 16, 16, 11,0, 15,116,101, 42, 44, 45, 40, 69,132, 59,9, 15,13,1,1,1,6, 16, 15, 14,2,1,15,6,2,2,0, 39,128, 85, 40, 45, 45, 39, 80,130, 41,0,0,0, 0, 11, 11, 11,6,0,0,2, 14, 14,18,6,0,0, 45,131, 98, 55, 44, 45, 45,100,151, 69, 48, 46, 39, 39,41, 53, 53, 53, 48, 40, 33,3, 15, 17,14,7,2, 57,133,103,118, 79, 42, 43, 59,112,109,107,109,109,109,109,109,109,109,109,109,110,142, 20, 11, 13,0, 10, 15,122, 69,103, 64, 42, 45, 45, 44, 40, 40, 41, 41, 41, 41, 41,41, 41, 41, 41, 41, 40,126, 32,0,0,0, 10, 15,117, 60, 38, 42, 44, 44, 44, 44, 44, 44, 44, 44, 44, 44, 44,44, 44, 44, 44, 44, 43,127, 32,0,0,2,9, 13,121, 75, 56, 58, 58, 58, 58, 58, 58, 58, 58, 58, 58, 58, 58,58, 58, 58, 58, 58, 58,134, 31,2,2,16,5,1, 81,110,107,107,108,105,102,102,103,107,107,108,105,102,102,103,107,107,108,105,103,105, 12, 13, 15,17,6,0,0,3, 15, 15, 16,5,0,0,1, 15, 15, 16,6,0,0, 0, 15, 15, 16,8,0,0,0, 15, 16,13,7,4,4,6, 12, 12, 13,7,4,3,5, 12, 12, 13,8,4,3, 4, 12, 12, 13,9,4,3,4, 12, 12\n"
          ]
        }
      ]
    },
    {
      "cell_type": "code",
      "source": [
        "plt.imshow(image_arr, cmap='Greys', interpolation='None')\n",
        "plt.show()"
      ],
      "metadata": {
        "colab": {
          "base_uri": "https://localhost:8080/",
          "height": 265
        },
        "id": "-k-8XOcgCapE",
        "outputId": "65456c82-f632-4117-9181-52038b1cc057"
      },
      "execution_count": null,
      "outputs": [
        {
          "output_type": "display_data",
          "data": {
            "text/plain": [
              "<Figure size 432x288 with 1 Axes>"
            ],
            "image/png": "[encoded data removed]"
          },
          "metadata": {
            "needs_background": "light"
          }
        }
      ]
    },
    {
      "cell_type": "code",
      "source": [
        "image_array = np.asfarray(data_value[1:]).reshape((1,28,28))\n",
        "\n",
        "predictions = model(image_array).numpy()\n",
        "result = np.argmax(tf.nn.softmax(predictions).numpy())\n",
        "print(f'나의 이미지 분류 결과: {result}')"
      ],
      "metadata": {
        "colab": {
          "base_uri": "https://localhost:8080/"
        },
        "id": "ckCcBdaSDBFv",
        "outputId": "38a5dd71-5d4b-4744-d094-a85f8172344e"
      },
      "execution_count": null,
      "outputs": [
        {
          "output_type": "stream",
          "name": "stdout",
          "text": [
            "나의 이미지 분류 결과: 3\n"
          ]
        }
      ]
    },
    {
      "cell_type": "code",
      "source": [
        "%matplotlib inline \n",
        "from PIL import Image\n",
        "\n",
        "image1 = Image.open('test1123.jpg')\n",
        "image1.show()\n",
        "\n",
        "print(image1.size)\n",
        "\n",
        "croppedImage = image1.crop((10, 10,100,100))\n",
        "croppedImage.show()\n",
        "\n",
        "print(\"잘려진 사진 크기 : \", croppedImage.size)\n",
        "croppedImage.save('croppedImage.jpg')"
      ],
      "metadata": {
        "id": "O6YJpQYtDpm1",
        "colab": {
          "base_uri": "https://localhost:8080/"
        },
        "outputId": "d553af7b-2767-482a-df28-b9c3fa1c41db"
      },
      "execution_count": 3,
      "outputs": [
        {
          "output_type": "stream",
          "name": "stdout",
          "text": [
            "(300, 168)\n",
            "잘려진 사진 크기 :  (90, 90)\n"
          ]
        }
      ]
    },
    {
      "cell_type": "code",
      "source": [
        "from google.colab import drive\n",
        "drive.mount('/content/drive')"
      ],
      "metadata": {
        "colab": {
          "base_uri": "https://localhost:8080/"
        },
        "id": "acQ_Vv89MKIZ",
        "outputId": "1b71b0e2-9af2-434b-8704-68c49c1e751a"
      },
      "execution_count": 66,
      "outputs": [
        {
          "output_type": "stream",
          "name": "stdout",
          "text": [
            "Mounted at /content/drive\n"
          ]
        }
      ]
    },
    {
      "cell_type": "code",
      "source": [
        "from PIL import Image\n",
        "img = Image.open(\"screenshot_linux_chrome.png\")\n",
        "w, h = img.size\n",
        "print(\"width(가로) : \", w)\n",
        "print(\"height(세로) : \", h)\n",
        "img\n",
        "import random\n",
        "import string\n",
        "def rand():\n",
        "  _LENGTH = 8\n",
        "  string_pool = string.digits\n",
        "  result = \"\"\n",
        "  for i in range(_LENGTH):\n",
        "    result += random.choice(string_pool)\n",
        "  return result\n"
      ],
      "metadata": {
        "id": "QHnbyngulm1Z"
      },
      "execution_count": 79,
      "outputs": []
    },
    {
      "cell_type": "code",
      "source": [
        "croppedImage = img.crop((370,420,400,470)) #가로 시작점, 세로 시작점, 가로 끝점, 세로 끝점\n",
        "croppedImage.save('/content/drive/MyDrive/ColabNotebooks/image/'+rand()+'croppedImage.PNG')"
      ],
      "metadata": {
        "colab": {
          "base_uri": "https://localhost:8080/",
          "height": 321
        },
        "id": "0EKFG6X0m_AC",
        "outputId": "c2f63836-b677-411a-bc50-5788c40150df"
      },
      "execution_count": 89,
      "outputs": [
        {
          "output_type": "error",
          "ename": "FileNotFoundError",
          "evalue": "ignored",
          "traceback": [
            "\u001b[0;31m---------------------------------------------------------------------------\u001b[0m",
            "\u001b[0;31mFileNotFoundError\u001b[0m                         Traceback (most recent call last)",
            "\u001b[0;32m<ipython-input-89-64794f625a30>\u001b[0m in \u001b[0;36m<module>\u001b[0;34m\u001b[0m\n\u001b[1;32m      1\u001b[0m \u001b[0mcroppedImage\u001b[0m \u001b[0;34m=\u001b[0m \u001b[0mimg\u001b[0m\u001b[0;34m.\u001b[0m\u001b[0mcrop\u001b[0m\u001b[0;34m(\u001b[0m\u001b[0;34m(\u001b[0m\u001b[0;36m370\u001b[0m\u001b[0;34m,\u001b[0m\u001b[0;36m420\u001b[0m\u001b[0;34m,\u001b[0m\u001b[0;36m400\u001b[0m\u001b[0;34m,\u001b[0m\u001b[0;36m470\u001b[0m\u001b[0;34m)\u001b[0m\u001b[0;34m)\u001b[0m \u001b[0;31m#가로 시작점, 세로 시작점, 가로 끝점, 세로 끝점\u001b[0m\u001b[0;34m\u001b[0m\u001b[0;34m\u001b[0m\u001b[0m\n\u001b[0;32m----> 2\u001b[0;31m \u001b[0mcroppedImage\u001b[0m\u001b[0;34m.\u001b[0m\u001b[0msave\u001b[0m\u001b[0;34m(\u001b[0m\u001b[0;34m'C:/Users/easypick/Desktop/sample2'\u001b[0m\u001b[0;34m+\u001b[0m\u001b[0mrand\u001b[0m\u001b[0;34m(\u001b[0m\u001b[0;34m)\u001b[0m\u001b[0;34m+\u001b[0m\u001b[0;34m'croppedImage.PNG'\u001b[0m\u001b[0;34m)\u001b[0m\u001b[0;34m\u001b[0m\u001b[0;34m\u001b[0m\u001b[0m\n\u001b[0m",
            "\u001b[0;32m/usr/local/lib/python3.7/dist-packages/PIL/Image.py\u001b[0m in \u001b[0;36msave\u001b[0;34m(self, fp, format, **params)\u001b[0m\n\u001b[1;32m   2129\u001b[0m                 \u001b[0mfp\u001b[0m \u001b[0;34m=\u001b[0m \u001b[0mbuiltins\u001b[0m\u001b[0;34m.\u001b[0m\u001b[0mopen\u001b[0m\u001b[0;34m(\u001b[0m\u001b[0mfilename\u001b[0m\u001b[0;34m,\u001b[0m \u001b[0;34m\"r+b\"\u001b[0m\u001b[0;34m)\u001b[0m\u001b[0;34m\u001b[0m\u001b[0;34m\u001b[0m\u001b[0m\n\u001b[1;32m   2130\u001b[0m             \u001b[0;32melse\u001b[0m\u001b[0;34m:\u001b[0m\u001b[0;34m\u001b[0m\u001b[0;34m\u001b[0m\u001b[0m\n\u001b[0;32m-> 2131\u001b[0;31m                 \u001b[0mfp\u001b[0m \u001b[0;34m=\u001b[0m \u001b[0mbuiltins\u001b[0m\u001b[0;34m.\u001b[0m\u001b[0mopen\u001b[0m\u001b[0;34m(\u001b[0m\u001b[0mfilename\u001b[0m\u001b[0;34m,\u001b[0m \u001b[0;34m\"w+b\"\u001b[0m\u001b[0;34m)\u001b[0m\u001b[0;34m\u001b[0m\u001b[0;34m\u001b[0m\u001b[0m\n\u001b[0m\u001b[1;32m   2132\u001b[0m \u001b[0;34m\u001b[0m\u001b[0m\n\u001b[1;32m   2133\u001b[0m         \u001b[0;32mtry\u001b[0m\u001b[0;34m:\u001b[0m\u001b[0;34m\u001b[0m\u001b[0;34m\u001b[0m\u001b[0m\n",
            "\u001b[0;31mFileNotFoundError\u001b[0m: [Errno 2] No such file or directory: 'C:/Users/easypick/Desktop/sample237818460croppedImage.PNG'"
          ]
        }
      ]
    },
    {
      "cell_type": "code",
      "source": [
        "croppedImage = img.crop((390,420,420,470)) #가로 시작점, 세로 시작점, 가로 끝점, 세로 끝점\n",
        "croppedImage.save('/content/drive/MyDrive/ColabNotebooks/image/'+rand()+'croppedImage.PNG')"
      ],
      "metadata": {
        "id": "VdAcnrEgnLRh"
      },
      "execution_count": 84,
      "outputs": []
    },
    {
      "cell_type": "code",
      "source": [
        "croppedImage = img.crop((420,420,440,470)) #가로 시작점, 세로 시작점, 가로 끝점, 세로 끝점\n",
        "croppedImage.save('/content/drive/MyDrive/ColabNotebooks/image/'+rand()+'croppedImage.PNG')"
      ],
      "metadata": {
        "id": "8JUO9b92n6AJ"
      },
      "execution_count": 85,
      "outputs": []
    },
    {
      "cell_type": "code",
      "source": [
        "croppedImage = img.crop((430,420,460,470)) #가로 시작점, 세로 시작점, 가로 끝점, 세로 끝점\n",
        "croppedImage.save('/content/drive/MyDrive/ColabNotebooks/image/'+rand()+'croppedImage.PNG')"
      ],
      "metadata": {
        "id": "1WCRgPeaoHkG"
      },
      "execution_count": 86,
      "outputs": []
    },
    {
      "cell_type": "code",
      "source": [
        "croppedImage = img.crop((455,420,480,470)) #가로 시작점, 세로 시작점, 가로 끝점, 세로 끝점\n",
        "croppedImage.save('/content/drive/MyDrive/ColabNotebooks/image/'+rand()+'croppedImage.PNG')"
      ],
      "metadata": {
        "id": "l4xujhgIsQQh"
      },
      "execution_count": 87,
      "outputs": []
    },
    {
      "cell_type": "code",
      "source": [
        "croppedImage = img.crop((470,420,500,470)) #가로 시작점, 세로 시작점, 가로 끝점, 세로 끝점\n",
        "croppedImage.save('/content/drive/MyDrive/ColabNotebooks/image/'+rand()+'croppedImage.PNG')"
      ],
      "metadata": {
        "id": "9Kj7hvy0soXg"
      },
      "execution_count": 88,
      "outputs": []
    },
    {
      "cell_type": "code",
      "source": [
        "from PIL import Image\n",
        "img = Image.open(\"screenshot_linux_chrome.png\")\n",
        "w, h = img.size\n",
        "print(\"width(가로) : \", w)\n",
        "print(\"height(세로) : \", h)\n",
        "img.crop((370,420,400,470)) #가로 시작점, 세로 시작점, 가로 끝점, 세로 끝점\n",
        "img.crop((390,420,420,470)) #가로 시작점, 세로 시작점, 가로 끝점, 세로 끝점\n",
        "img.crop((420,420,440,470)) #가로 시작점, 세로 시작점, 가로 끝점, 세로 끝점\n",
        "img.crop((430,420,460,470)) #가로 시작점, 세로 시작점, 가로 끝점, 세로 끝점\n",
        "img.crop((455,420,480,470)) #가로 시작점, 세로 시작점, 가로 끝점, 세로 끝점\n",
        "img.crop((470,420,500,470)) #가로 시작점, 세로 시작점, 가로 끝점, 세로 끝점"
      ],
      "metadata": {
        "colab": {
          "base_uri": "https://localhost:8080/",
          "height": 104
        },
        "id": "szeS3tl8stsP",
        "outputId": "d241fb75-c3ea-4ed7-a501-2f8b24ce272f"
      },
      "execution_count": 62,
      "outputs": [
        {
          "output_type": "stream",
          "name": "stdout",
          "text": [
            "width(가로) :  929\n",
            "height(세로) :  887\n"
          ]
        },
        {
          "output_type": "execute_result",
          "data": {
            "text/plain": [
              "<PIL.Image.Image image mode=RGBA size=30x50 at 0x7F2A27EA1550>"
            ],
            "image/png": "[encoded data removed]"
          },
          "metadata": {},
          "execution_count": 62
        }
      ]
    },
    {
      "cell_type": "code",
      "source": [
        "for i in range(0, 10 ):\n",
        "  print(f'{i}')"
      ],
      "metadata": {
        "colab": {
          "base_uri": "https://localhost:8080/"
        },
        "id": "tsFWaKG6tF14",
        "outputId": "a09e1e62-04d4-4d38-bd9b-9539e1693c40"
      },
      "execution_count": 1,
      "outputs": [
        {
          "output_type": "stream",
          "name": "stdout",
          "text": [
            "0\n",
            "1\n",
            "2\n",
            "3\n",
            "4\n",
            "5\n",
            "6\n",
            "7\n",
            "8\n",
            "9\n"
          ]
        }
      ]
    },
    {
      "cell_type": "code",
      "source": [
        "import random\n",
        "import string\n",
        "def rand():\n",
        "  _LENGTH = 8\n",
        "  string_pool = string.digits\n",
        "  result = \"\"\n",
        "  for i in range(_LENGTH):\n",
        "    result += random.choice(string_pool)\n",
        "  return result"
      ],
      "metadata": {
        "id": "Q5u-Zx-G8_bK"
      },
      "execution_count": 24,
      "outputs": []
    },
    {
      "cell_type": "code",
      "source": [
        "rand()"
      ],
      "metadata": {
        "colab": {
          "base_uri": "https://localhost:8080/",
          "height": 35
        },
        "id": "lXQUZ_Bp-eqn",
        "outputId": "16ce4726-b488-47ff-801c-39786aecc8e1"
      },
      "execution_count": 25,
      "outputs": [
        {
          "output_type": "execute_result",
          "data": {
            "text/plain": [
              "'71531310'"
            ],
            "application/vnd.google.colaboratory.intrinsic+json": {
              "type": "string"
            }
          },
          "metadata": {},
          "execution_count": 25
        }
      ]
    },
    {
      "cell_type": "code",
      "source": [],
      "metadata": {
        "id": "8CSxI4IcB__u"
      },
      "execution_count": null,
      "outputs": []
    }
  ]
}